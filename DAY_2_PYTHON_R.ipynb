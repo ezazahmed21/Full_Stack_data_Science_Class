{
 "cells": [
  {
   "cell_type": "code",
   "execution_count": 1,
   "id": "71f59114",
   "metadata": {},
   "outputs": [],
   "source": [
    "s = \"Hello\""
   ]
  },
  {
   "cell_type": "code",
   "execution_count": 2,
   "id": "c852ae2e",
   "metadata": {},
   "outputs": [
    {
     "data": {
      "text/plain": [
       "str"
      ]
     },
     "execution_count": 2,
     "metadata": {},
     "output_type": "execute_result"
    }
   ],
   "source": [
    "type(s)"
   ]
  },
  {
   "cell_type": "code",
   "execution_count": 3,
   "id": "3b232402",
   "metadata": {},
   "outputs": [
    {
     "data": {
      "text/plain": [
       "'H'"
      ]
     },
     "execution_count": 3,
     "metadata": {},
     "output_type": "execute_result"
    }
   ],
   "source": [
    "s[0]"
   ]
  },
  {
   "cell_type": "code",
   "execution_count": 7,
   "id": "c48805fb",
   "metadata": {},
   "outputs": [
    {
     "name": "stdout",
     "output_type": "stream",
     "text": [
      "When we define string variable. it will creat string array. different indexs created starting with 0\n"
     ]
    }
   ],
   "source": [
    "print(\"When we define string variable. it will creat string array. different indexs created starting with 0\")"
   ]
  },
  {
   "cell_type": "code",
   "execution_count": 5,
   "id": "7471955f",
   "metadata": {},
   "outputs": [
    {
     "data": {
      "text/plain": [
       "'l'"
      ]
     },
     "execution_count": 5,
     "metadata": {},
     "output_type": "execute_result"
    }
   ],
   "source": [
    "s[3]"
   ]
  },
  {
   "cell_type": "code",
   "execution_count": 6,
   "id": "ebd711e0",
   "metadata": {},
   "outputs": [
    {
     "data": {
      "text/plain": [
       "'l'"
      ]
     },
     "execution_count": 6,
     "metadata": {},
     "output_type": "execute_result"
    }
   ],
   "source": [
    "s[-3]"
   ]
  },
  {
   "cell_type": "code",
   "execution_count": 8,
   "id": "b1a50484",
   "metadata": {},
   "outputs": [
    {
     "name": "stdout",
     "output_type": "stream",
     "text": [
      "We can access string array from backward direction as well with -1 , -2 .  It is starting from -1 and so on\n"
     ]
    }
   ],
   "source": [
    "print(\"We can access string array from backward direction as well with -1 , -2 .  It is starting from -1 and so on\")"
   ]
  },
  {
   "cell_type": "code",
   "execution_count": 9,
   "id": "c5ea850e",
   "metadata": {},
   "outputs": [],
   "source": [
    "a = \"Hello world with smile\""
   ]
  },
  {
   "cell_type": "code",
   "execution_count": 10,
   "id": "9ae13cf2",
   "metadata": {},
   "outputs": [
    {
     "data": {
      "text/plain": [
       "'Hello worl'"
      ]
     },
     "execution_count": 10,
     "metadata": {},
     "output_type": "execute_result"
    }
   ],
   "source": [
    "a[0:10]"
   ]
  },
  {
   "cell_type": "code",
   "execution_count": 11,
   "id": "c2f894e7",
   "metadata": {},
   "outputs": [
    {
     "name": "stdout",
     "output_type": "stream",
     "text": [
      "Data till 9th poistion excluding 10 character. Count 0 first paratmeter : 10 is count of caharacter\n"
     ]
    }
   ],
   "source": [
    "print(\"Data till 9th poistion excluding 10 character. Count 0 first paratmeter : 10 is count of caharacter\")"
   ]
  },
  {
   "cell_type": "code",
   "execution_count": 12,
   "id": "9eaf1198",
   "metadata": {},
   "outputs": [
    {
     "data": {
      "text/plain": [
       "'Hello world with smile'"
      ]
     },
     "execution_count": 12,
     "metadata": {},
     "output_type": "execute_result"
    }
   ],
   "source": [
    "a[0:100]"
   ]
  },
  {
   "cell_type": "code",
   "execution_count": 13,
   "id": "09dcb1d6",
   "metadata": {},
   "outputs": [
    {
     "name": "stdout",
     "output_type": "stream",
     "text": [
      "when we try a range it will not give error. It will check all string. Like VARCHAR\n"
     ]
    }
   ],
   "source": [
    "print(\"when we try a range it will not give error. It will check all string. Like VARCHAR\")"
   ]
  },
  {
   "cell_type": "code",
   "execution_count": 14,
   "id": "e8df434d",
   "metadata": {},
   "outputs": [
    {
     "data": {
      "text/plain": [
       "''"
      ]
     },
     "execution_count": 14,
     "metadata": {},
     "output_type": "execute_result"
    }
   ],
   "source": [
    "a[-1:-4]"
   ]
  },
  {
   "cell_type": "code",
   "execution_count": 15,
   "id": "de14a28f",
   "metadata": {},
   "outputs": [
    {
     "data": {
      "text/plain": [
       "'Hello world with smile'"
      ]
     },
     "execution_count": 15,
     "metadata": {},
     "output_type": "execute_result"
    }
   ],
   "source": [
    "a[0:300:1]"
   ]
  },
  {
   "cell_type": "code",
   "execution_count": 23,
   "id": "155b2802",
   "metadata": {},
   "outputs": [
    {
     "name": "stdout",
     "output_type": "stream",
     "text": [
      "0 is starting point ; 300 end point ; 1 number of caharcter to step size/ jump in positiv sequence manner\n"
     ]
    }
   ],
   "source": [
    "print(\"0 is starting point ; 300 end point ; 1 number of caharcter to step size/ jump in positiv sequence manner\")"
   ]
  },
  {
   "cell_type": "code",
   "execution_count": 17,
   "id": "eb7ad2de",
   "metadata": {},
   "outputs": [
    {
     "data": {
      "text/plain": [
       "'Hlowrdwt ml'"
      ]
     },
     "execution_count": 17,
     "metadata": {},
     "output_type": "execute_result"
    }
   ],
   "source": [
    "a[0:300:2]"
   ]
  },
  {
   "cell_type": "code",
   "execution_count": 18,
   "id": "865e3190",
   "metadata": {},
   "outputs": [
    {
     "data": {
      "text/plain": [
       "'mil'"
      ]
     },
     "execution_count": 18,
     "metadata": {},
     "output_type": "execute_result"
    }
   ],
   "source": [
    "a[-4:-1]"
   ]
  },
  {
   "cell_type": "code",
   "execution_count": 20,
   "id": "fca2d815",
   "metadata": {},
   "outputs": [
    {
     "data": {
      "text/plain": [
       "'Hello world with smil'"
      ]
     },
     "execution_count": 20,
     "metadata": {},
     "output_type": "execute_result"
    }
   ],
   "source": [
    "a[-100:-1]"
   ]
  },
  {
   "cell_type": "code",
   "execution_count": 22,
   "id": "212a6c50",
   "metadata": {},
   "outputs": [
    {
     "data": {
      "text/plain": [
       "'Hlowrdwt ml'"
      ]
     },
     "execution_count": 22,
     "metadata": {},
     "output_type": "execute_result"
    }
   ],
   "source": [
    "a[-100:-1:2]"
   ]
  },
  {
   "cell_type": "code",
   "execution_count": 24,
   "id": "e828fd83",
   "metadata": {},
   "outputs": [
    {
     "data": {
      "text/plain": [
       "''"
      ]
     },
     "execution_count": 24,
     "metadata": {},
     "output_type": "execute_result"
    }
   ],
   "source": [
    "a[0:100:-1]"
   ]
  },
  {
   "cell_type": "code",
   "execution_count": 25,
   "id": "b7a9542c",
   "metadata": {},
   "outputs": [
    {
     "name": "stdout",
     "output_type": "stream",
     "text": [
      "Conflict as scale is going positive manner but u=you jump is ngative which is conflict it. And return balnk string. Example conside SCALE\n"
     ]
    }
   ],
   "source": [
    "print(\"Conflict as scale is going positive manner but u=you jump is ngative which is conflict it. And return balnk string. Example conside SCALE\")"
   ]
  },
  {
   "cell_type": "code",
   "execution_count": 26,
   "id": "c65df8f0",
   "metadata": {},
   "outputs": [
    {
     "data": {
      "text/plain": [
       "'eli'"
      ]
     },
     "execution_count": 26,
     "metadata": {},
     "output_type": "execute_result"
    }
   ],
   "source": [
    "a[-1:-4:-1]"
   ]
  },
  {
   "cell_type": "code",
   "execution_count": 27,
   "id": "06f5ddea",
   "metadata": {},
   "outputs": [
    {
     "data": {
      "text/plain": [
       "''"
      ]
     },
     "execution_count": 27,
     "metadata": {},
     "output_type": "execute_result"
    }
   ],
   "source": [
    "a[0:-10:-1]"
   ]
  },
  {
   "cell_type": "code",
   "execution_count": 28,
   "id": "d03e63e0",
   "metadata": {},
   "outputs": [
    {
     "data": {
      "text/plain": [
       "'Hello world with smile'"
      ]
     },
     "execution_count": 28,
     "metadata": {},
     "output_type": "execute_result"
    }
   ],
   "source": [
    "a[::]"
   ]
  },
  {
   "cell_type": "code",
   "execution_count": 29,
   "id": "9dc04447",
   "metadata": {},
   "outputs": [
    {
     "data": {
      "text/plain": [
       "'Hlwlwhm'"
      ]
     },
     "execution_count": 29,
     "metadata": {},
     "output_type": "execute_result"
    }
   ],
   "source": [
    "a[-100:-1:3]"
   ]
  },
  {
   "cell_type": "code",
   "execution_count": 30,
   "id": "d1507593",
   "metadata": {},
   "outputs": [
    {
     "data": {
      "text/plain": [
       "'Hello world with smil'"
      ]
     },
     "execution_count": 30,
     "metadata": {},
     "output_type": "execute_result"
    }
   ],
   "source": [
    "a[-100:-1:1]"
   ]
  },
  {
   "cell_type": "code",
   "execution_count": 31,
   "id": "bcb3ce3b",
   "metadata": {},
   "outputs": [
    {
     "data": {
      "text/plain": [
       "''"
      ]
     },
     "execution_count": 31,
     "metadata": {},
     "output_type": "execute_result"
    }
   ],
   "source": [
    "a[-100:0:1]"
   ]
  },
  {
   "cell_type": "code",
   "execution_count": 32,
   "id": "64d1095d",
   "metadata": {},
   "outputs": [
    {
     "data": {
      "text/plain": [
       "'ello world with smile'"
      ]
     },
     "execution_count": 32,
     "metadata": {},
     "output_type": "execute_result"
    }
   ],
   "source": [
    "a[1:]"
   ]
  },
  {
   "cell_type": "code",
   "execution_count": 33,
   "id": "d5c5f49f",
   "metadata": {},
   "outputs": [
    {
     "data": {
      "text/plain": [
       "'e'"
      ]
     },
     "execution_count": 33,
     "metadata": {},
     "output_type": "execute_result"
    }
   ],
   "source": [
    "a[-1:\n",
    " ]"
   ]
  },
  {
   "cell_type": "code",
   "execution_count": 34,
   "id": "7af5a2b5",
   "metadata": {},
   "outputs": [
    {
     "data": {
      "text/plain": [
       "'elims htiw dlrow olleH'"
      ]
     },
     "execution_count": 34,
     "metadata": {},
     "output_type": "execute_result"
    }
   ],
   "source": [
    "a[::-1]"
   ]
  },
  {
   "cell_type": "code",
   "execution_count": 35,
   "id": "1763dea1",
   "metadata": {},
   "outputs": [
    {
     "data": {
      "text/plain": [
       "'elims htiw dlrow olleH'"
      ]
     },
     "execution_count": 35,
     "metadata": {},
     "output_type": "execute_result"
    }
   ],
   "source": [
    "a[-1::-1]"
   ]
  },
  {
   "cell_type": "code",
   "execution_count": 36,
   "id": "fafcd4a9",
   "metadata": {},
   "outputs": [
    {
     "name": "stdout",
     "output_type": "stream",
     "text": [
      "Reverse to a string\n"
     ]
    }
   ],
   "source": [
    "print(\"Reverse to a string\")"
   ]
  },
  {
   "cell_type": "code",
   "execution_count": 37,
   "id": "9c1183a3",
   "metadata": {},
   "outputs": [
    {
     "name": "stdout",
     "output_type": "stream",
     "text": [
      "Maintain the direction as well in : : a[-100:0:1]\n"
     ]
    }
   ],
   "source": [
    "print(\"Maintain the direction as well in : : a[-100:0:1]\")"
   ]
  },
  {
   "cell_type": "code",
   "execution_count": 38,
   "id": "44f6e846",
   "metadata": {},
   "outputs": [
    {
     "data": {
      "text/plain": [
       "''"
      ]
     },
     "execution_count": 38,
     "metadata": {},
     "output_type": "execute_result"
    }
   ],
   "source": [
    "a[-100:0:-1]"
   ]
  },
  {
   "cell_type": "code",
   "execution_count": 39,
   "id": "12e06f6b",
   "metadata": {},
   "outputs": [
    {
     "data": {
      "text/plain": [
       "'Hlwlwhme'"
      ]
     },
     "execution_count": 39,
     "metadata": {},
     "output_type": "execute_result"
    }
   ],
   "source": [
    "a[-100:100:3]"
   ]
  },
  {
   "cell_type": "code",
   "execution_count": 40,
   "id": "4b1e8e58",
   "metadata": {},
   "outputs": [
    {
     "data": {
      "text/plain": [
       "'Hello world with smile'"
      ]
     },
     "execution_count": 40,
     "metadata": {},
     "output_type": "execute_result"
    }
   ],
   "source": [
    "a[-100:100]"
   ]
  },
  {
   "cell_type": "code",
   "execution_count": 42,
   "id": "fbc9870c",
   "metadata": {},
   "outputs": [
    {
     "data": {
      "text/plain": [
       "'s htiw dlrow'"
      ]
     },
     "execution_count": 42,
     "metadata": {},
     "output_type": "execute_result"
    }
   ],
   "source": [
    "a[-5:5:-1]"
   ]
  },
  {
   "cell_type": "code",
   "execution_count": 43,
   "id": "fdde7032",
   "metadata": {},
   "outputs": [
    {
     "data": {
      "text/plain": [
       "'Hello world with smileHello world with smileHello world with smile'"
      ]
     },
     "execution_count": 43,
     "metadata": {},
     "output_type": "execute_result"
    }
   ],
   "source": [
    "a*3"
   ]
  },
  {
   "cell_type": "code",
   "execution_count": 45,
   "id": "7d221faf",
   "metadata": {},
   "outputs": [
    {
     "name": "stdout",
     "output_type": "stream",
     "text": [
      "Same string print multiple time * + concat\n"
     ]
    }
   ],
   "source": [
    "print(\"Same string print multiple time * + concat\")"
   ]
  },
  {
   "cell_type": "code",
   "execution_count": 46,
   "id": "e9829de6",
   "metadata": {},
   "outputs": [
    {
     "data": {
      "text/plain": [
       "22"
      ]
     },
     "execution_count": 46,
     "metadata": {},
     "output_type": "execute_result"
    }
   ],
   "source": [
    "len(a)"
   ]
  },
  {
   "cell_type": "code",
   "execution_count": 47,
   "id": "647a09fd",
   "metadata": {},
   "outputs": [
    {
     "data": {
      "text/plain": [
       "-1"
      ]
     },
     "execution_count": 47,
     "metadata": {},
     "output_type": "execute_result"
    }
   ],
   "source": [
    "a.find(\"I\")"
   ]
  },
  {
   "cell_type": "code",
   "execution_count": 48,
   "id": "61e03082",
   "metadata": {},
   "outputs": [
    {
     "data": {
      "text/plain": [
       "15"
      ]
     },
     "execution_count": 48,
     "metadata": {},
     "output_type": "execute_result"
    }
   ],
   "source": [
    "a.find(\"h\")"
   ]
  },
  {
   "cell_type": "code",
   "execution_count": 49,
   "id": "f07734fc",
   "metadata": {},
   "outputs": [
    {
     "data": {
      "text/plain": [
       "0"
      ]
     },
     "execution_count": 49,
     "metadata": {},
     "output_type": "execute_result"
    }
   ],
   "source": [
    "a.find(\"H\")"
   ]
  },
  {
   "cell_type": "code",
   "execution_count": 50,
   "id": "7ec101d7",
   "metadata": {},
   "outputs": [
    {
     "name": "stdout",
     "output_type": "stream",
     "text": [
      "Find is use the position of lowest position from the string. This case sensitive. And if string not match it will retuen -1\n"
     ]
    }
   ],
   "source": [
    "print(\"Find is use the position of lowest position from the string. This case sensitive. And if string not match it will retuen -1\")"
   ]
  },
  {
   "cell_type": "code",
   "execution_count": 51,
   "id": "f931a156",
   "metadata": {},
   "outputs": [
    {
     "data": {
      "text/plain": [
       "0"
      ]
     },
     "execution_count": 51,
     "metadata": {},
     "output_type": "execute_result"
    }
   ],
   "source": [
    "a.find(\"He\")"
   ]
  },
  {
   "cell_type": "code",
   "execution_count": 52,
   "id": "3f0c65ab",
   "metadata": {},
   "outputs": [
    {
     "data": {
      "text/plain": [
       "2"
      ]
     },
     "execution_count": 52,
     "metadata": {},
     "output_type": "execute_result"
    }
   ],
   "source": [
    "a.find(\"ll\")"
   ]
  },
  {
   "cell_type": "code",
   "execution_count": 53,
   "id": "a446caf1",
   "metadata": {},
   "outputs": [
    {
     "data": {
      "text/plain": [
       "'Hello world with smile'"
      ]
     },
     "execution_count": 53,
     "metadata": {},
     "output_type": "execute_result"
    }
   ],
   "source": [
    "a\n"
   ]
  },
  {
   "cell_type": "code",
   "execution_count": 54,
   "id": "d1bc7097",
   "metadata": {},
   "outputs": [
    {
     "data": {
      "text/plain": [
       "1"
      ]
     },
     "execution_count": 54,
     "metadata": {},
     "output_type": "execute_result"
    }
   ],
   "source": [
    "a.count(\"H\")"
   ]
  },
  {
   "cell_type": "code",
   "execution_count": 55,
   "id": "82793e2b",
   "metadata": {},
   "outputs": [
    {
     "data": {
      "text/plain": [
       "1"
      ]
     },
     "execution_count": 55,
     "metadata": {},
     "output_type": "execute_result"
    }
   ],
   "source": [
    "a.count(\"h\")"
   ]
  },
  {
   "cell_type": "code",
   "execution_count": 56,
   "id": "5af6e019",
   "metadata": {},
   "outputs": [
    {
     "data": {
      "text/plain": [
       "4"
      ]
     },
     "execution_count": 56,
     "metadata": {},
     "output_type": "execute_result"
    }
   ],
   "source": [
    "a.count(\"l\")"
   ]
  },
  {
   "cell_type": "code",
   "execution_count": 57,
   "id": "0df86c57",
   "metadata": {},
   "outputs": [
    {
     "data": {
      "text/plain": [
       "1"
      ]
     },
     "execution_count": 57,
     "metadata": {},
     "output_type": "execute_result"
    }
   ],
   "source": [
    "a.count(\"ll\")"
   ]
  },
  {
   "cell_type": "code",
   "execution_count": 59,
   "id": "3bcd0524",
   "metadata": {},
   "outputs": [],
   "source": [
    "l = a.split()"
   ]
  },
  {
   "cell_type": "code",
   "execution_count": 60,
   "id": "53775a23",
   "metadata": {},
   "outputs": [
    {
     "data": {
      "text/plain": [
       "list"
      ]
     },
     "execution_count": 60,
     "metadata": {},
     "output_type": "execute_result"
    }
   ],
   "source": [
    "type(l)"
   ]
  },
  {
   "cell_type": "code",
   "execution_count": 61,
   "id": "28ba8c56",
   "metadata": {},
   "outputs": [
    {
     "data": {
      "text/plain": [
       "'Hello'"
      ]
     },
     "execution_count": 61,
     "metadata": {},
     "output_type": "execute_result"
    }
   ],
   "source": [
    "l[0]"
   ]
  },
  {
   "cell_type": "code",
   "execution_count": 62,
   "id": "45e34f11",
   "metadata": {},
   "outputs": [
    {
     "data": {
      "text/plain": [
       "'with'"
      ]
     },
     "execution_count": 62,
     "metadata": {},
     "output_type": "execute_result"
    }
   ],
   "source": [
    "l[2]"
   ]
  },
  {
   "cell_type": "code",
   "execution_count": 67,
   "id": "46cdf48a",
   "metadata": {},
   "outputs": [
    {
     "data": {
      "text/plain": [
       "'smile'"
      ]
     },
     "execution_count": 67,
     "metadata": {},
     "output_type": "execute_result"
    }
   ],
   "source": [
    "l[3]"
   ]
  },
  {
   "cell_type": "code",
   "execution_count": 68,
   "id": "428549d5",
   "metadata": {},
   "outputs": [
    {
     "data": {
      "text/plain": [
       "['Hello', 'world', 'with']"
      ]
     },
     "execution_count": 68,
     "metadata": {},
     "output_type": "execute_result"
    }
   ],
   "source": [
    "l[0:3]"
   ]
  },
  {
   "cell_type": "code",
   "execution_count": 69,
   "id": "a8df50f5",
   "metadata": {},
   "outputs": [
    {
     "data": {
      "text/plain": [
       "[]"
      ]
     },
     "execution_count": 69,
     "metadata": {},
     "output_type": "execute_result"
    }
   ],
   "source": [
    "l[3:3]"
   ]
  },
  {
   "cell_type": "code",
   "execution_count": 70,
   "id": "71ae496e",
   "metadata": {},
   "outputs": [
    {
     "data": {
      "text/plain": [
       "['with']"
      ]
     },
     "execution_count": 70,
     "metadata": {},
     "output_type": "execute_result"
    }
   ],
   "source": [
    "l[2:3]"
   ]
  },
  {
   "cell_type": "code",
   "execution_count": 71,
   "id": "11320cd0",
   "metadata": {},
   "outputs": [
    {
     "data": {
      "text/plain": [
       "'smile'"
      ]
     },
     "execution_count": 71,
     "metadata": {},
     "output_type": "execute_result"
    }
   ],
   "source": [
    "l[-1]"
   ]
  },
  {
   "cell_type": "code",
   "execution_count": 72,
   "id": "8da0275b",
   "metadata": {},
   "outputs": [
    {
     "name": "stdout",
     "output_type": "stream",
     "text": [
      "List as well ngative value. Split with space by deafult split('w')\n"
     ]
    }
   ],
   "source": [
    "print(\"List as well ngative value. Split with space by deafult split('w')\")"
   ]
  },
  {
   "cell_type": "code",
   "execution_count": 1,
   "id": "d17a9136",
   "metadata": {},
   "outputs": [
    {
     "ename": "NameError",
     "evalue": "name 'a' is not defined",
     "output_type": "error",
     "traceback": [
      "\u001b[1;31m---------------------------------------------------------------------------\u001b[0m",
      "\u001b[1;31mNameError\u001b[0m                                 Traceback (most recent call last)",
      "Input \u001b[1;32mIn [1]\u001b[0m, in \u001b[0;36m<cell line: 1>\u001b[1;34m()\u001b[0m\n\u001b[1;32m----> 1\u001b[0m \u001b[43ma\u001b[49m\n",
      "\u001b[1;31mNameError\u001b[0m: name 'a' is not defined"
     ]
    }
   ],
   "source": [
    "a\n"
   ]
  },
  {
   "cell_type": "code",
   "execution_count": null,
   "id": "4e8c9f52",
   "metadata": {},
   "outputs": [],
   "source": [
    "s"
   ]
  },
  {
   "cell_type": "code",
   "execution_count": 2,
   "id": "2b2f5361",
   "metadata": {},
   "outputs": [],
   "source": [
    "a= \"Ezaz\""
   ]
  },
  {
   "cell_type": "code",
   "execution_count": 3,
   "id": "564654cc",
   "metadata": {},
   "outputs": [
    {
     "data": {
      "text/plain": [
       "'Ezaz'"
      ]
     },
     "execution_count": 3,
     "metadata": {},
     "output_type": "execute_result"
    }
   ],
   "source": [
    "a\n"
   ]
  },
  {
   "cell_type": "code",
   "execution_count": 4,
   "id": "7cc54911",
   "metadata": {},
   "outputs": [
    {
     "data": {
      "text/plain": [
       "'Ezaz'"
      ]
     },
     "execution_count": 4,
     "metadata": {},
     "output_type": "execute_result"
    }
   ],
   "source": [
    "a.title()"
   ]
  },
  {
   "cell_type": "code",
   "execution_count": 5,
   "id": "74e246b1",
   "metadata": {},
   "outputs": [
    {
     "data": {
      "text/plain": [
       "'EZAZ'"
      ]
     },
     "execution_count": 5,
     "metadata": {},
     "output_type": "execute_result"
    }
   ],
   "source": [
    "a.upper()"
   ]
  },
  {
   "cell_type": "code",
   "execution_count": 7,
   "id": "02fc6d82",
   "metadata": {},
   "outputs": [
    {
     "data": {
      "text/plain": [
       "'eZAZ'"
      ]
     },
     "execution_count": 7,
     "metadata": {},
     "output_type": "execute_result"
    }
   ],
   "source": [
    "a.swapcase()"
   ]
  },
  {
   "cell_type": "code",
   "execution_count": 8,
   "id": "c3276ae1",
   "metadata": {},
   "outputs": [],
   "source": [
    "a=\"Ezaz\"\n",
    "b=\"Ahmed\""
   ]
  },
  {
   "cell_type": "code",
   "execution_count": 9,
   "id": "ddbf69f9",
   "metadata": {},
   "outputs": [
    {
     "data": {
      "text/plain": [
       "'AEzazhEzazmEzazeEzazd'"
      ]
     },
     "execution_count": 9,
     "metadata": {},
     "output_type": "execute_result"
    }
   ],
   "source": [
    "a.join(b)"
   ]
  },
  {
   "cell_type": "code",
   "execution_count": 10,
   "id": "7675de9f",
   "metadata": {},
   "outputs": [
    {
     "name": "stdout",
     "output_type": "stream",
     "text": [
      "Put a value in after ach caharacter\n"
     ]
    }
   ],
   "source": [
    "print(\"Put a value in after ach caharacter\")"
   ]
  },
  {
   "cell_type": "code",
   "execution_count": 11,
   "id": "e593f474",
   "metadata": {},
   "outputs": [
    {
     "data": {
      "text/plain": [
       "<function str.lstrip(chars=None, /)>"
      ]
     },
     "execution_count": 11,
     "metadata": {},
     "output_type": "execute_result"
    }
   ],
   "source": [
    "a.lstrip"
   ]
  },
  {
   "cell_type": "code",
   "execution_count": 13,
   "id": "6833e917",
   "metadata": {},
   "outputs": [
    {
     "data": {
      "text/plain": [
       "'Ezaz'"
      ]
     },
     "execution_count": 13,
     "metadata": {},
     "output_type": "execute_result"
    }
   ],
   "source": [
    "a.lstrip()"
   ]
  },
  {
   "cell_type": "code",
   "execution_count": 14,
   "id": "4b80d57a",
   "metadata": {},
   "outputs": [
    {
     "data": {
      "text/plain": [
       "'EAaA'"
      ]
     },
     "execution_count": 14,
     "metadata": {},
     "output_type": "execute_result"
    }
   ],
   "source": [
    "a.replace(\"z\",\"A\")"
   ]
  },
  {
   "cell_type": "code",
   "execution_count": 15,
   "id": "675c7921",
   "metadata": {},
   "outputs": [
    {
     "data": {
      "text/plain": [
       "'Ezaz/tAhmed'"
      ]
     },
     "execution_count": 15,
     "metadata": {},
     "output_type": "execute_result"
    }
   ],
   "source": [
    "\"Ezaz/tAhmed\".expandtabs()\n"
   ]
  },
  {
   "cell_type": "code",
   "execution_count": 16,
   "id": "3184f4fa",
   "metadata": {},
   "outputs": [
    {
     "data": {
      "text/plain": [
       "'Ezaz    Ahmed'"
      ]
     },
     "execution_count": 16,
     "metadata": {},
     "output_type": "execute_result"
    }
   ],
   "source": [
    "\"Ezaz\\tAhmed\".expandtabs()"
   ]
  },
  {
   "cell_type": "code",
   "execution_count": 17,
   "id": "4982d23a",
   "metadata": {},
   "outputs": [
    {
     "data": {
      "text/plain": [
       "False"
      ]
     },
     "execution_count": 17,
     "metadata": {},
     "output_type": "execute_result"
    }
   ],
   "source": [
    "a.isupper()"
   ]
  },
  {
   "cell_type": "code",
   "execution_count": 18,
   "id": "e0d9a793",
   "metadata": {},
   "outputs": [
    {
     "data": {
      "text/plain": [
       "False"
      ]
     },
     "execution_count": 18,
     "metadata": {},
     "output_type": "execute_result"
    }
   ],
   "source": [
    "a.islower()"
   ]
  },
  {
   "cell_type": "code",
   "execution_count": 21,
   "id": "a50fe7ae",
   "metadata": {},
   "outputs": [],
   "source": [
    "a=\" \""
   ]
  },
  {
   "cell_type": "code",
   "execution_count": 22,
   "id": "e940171d",
   "metadata": {},
   "outputs": [
    {
     "data": {
      "text/plain": [
       "True"
      ]
     },
     "execution_count": 22,
     "metadata": {},
     "output_type": "execute_result"
    }
   ],
   "source": [
    "a.isspace()\n"
   ]
  },
  {
   "cell_type": "code",
   "execution_count": 23,
   "id": "1379da40",
   "metadata": {},
   "outputs": [
    {
     "data": {
      "text/plain": [
       "False"
      ]
     },
     "execution_count": 23,
     "metadata": {},
     "output_type": "execute_result"
    }
   ],
   "source": [
    "a.isdigit()"
   ]
  },
  {
   "cell_type": "code",
   "execution_count": 25,
   "id": "0fd11c77",
   "metadata": {},
   "outputs": [
    {
     "data": {
      "text/plain": [
       "False"
      ]
     },
     "execution_count": 25,
     "metadata": {},
     "output_type": "execute_result"
    }
   ],
   "source": [
    "a.endswith(\"z\")"
   ]
  },
  {
   "cell_type": "code",
   "execution_count": 26,
   "id": "40d0ba0c",
   "metadata": {},
   "outputs": [],
   "source": [
    "a=\"Ezaz\""
   ]
  },
  {
   "cell_type": "code",
   "execution_count": 31,
   "id": "30ecdf2f",
   "metadata": {},
   "outputs": [
    {
     "data": {
      "text/plain": [
       "True"
      ]
     },
     "execution_count": 31,
     "metadata": {},
     "output_type": "execute_result"
    }
   ],
   "source": [
    "a.startswith(\"E\")"
   ]
  },
  {
   "cell_type": "code",
   "execution_count": 32,
   "id": "3d67eb11",
   "metadata": {},
   "outputs": [
    {
     "data": {
      "text/plain": [
       "b'Ezaz'"
      ]
     },
     "execution_count": 32,
     "metadata": {},
     "output_type": "execute_result"
    }
   ],
   "source": [
    "a.encode()\n"
   ]
  },
  {
   "cell_type": "code",
   "execution_count": 33,
   "id": "b614a0fd",
   "metadata": {},
   "outputs": [
    {
     "name": "stdout",
     "output_type": "stream",
     "text": [
      "b' represent UTF8\n"
     ]
    }
   ],
   "source": [
    "print(\"b' represent UTF8\")"
   ]
  },
  {
   "cell_type": "markdown",
   "id": "0e4199d8",
   "metadata": {},
   "source": [
    "# LIST datatype"
   ]
  },
  {
   "cell_type": "raw",
   "id": "72f7b755",
   "metadata": {},
   "source": [
    "collection of data placed in one varilable"
   ]
  },
  {
   "cell_type": "code",
   "execution_count": 36,
   "id": "40e97d73",
   "metadata": {},
   "outputs": [],
   "source": [
    "l = [\"aa\",'bb',22,33.44, True]"
   ]
  },
  {
   "cell_type": "code",
   "execution_count": 37,
   "id": "9a0cc5c9",
   "metadata": {},
   "outputs": [
    {
     "data": {
      "text/plain": [
       "list"
      ]
     },
     "execution_count": 37,
     "metadata": {},
     "output_type": "execute_result"
    }
   ],
   "source": [
    "type(l)"
   ]
  },
  {
   "cell_type": "code",
   "execution_count": 38,
   "id": "33bc0c24",
   "metadata": {},
   "outputs": [
    {
     "data": {
      "text/plain": [
       "'aa'"
      ]
     },
     "execution_count": 38,
     "metadata": {},
     "output_type": "execute_result"
    }
   ],
   "source": [
    "l[0]"
   ]
  },
  {
   "cell_type": "code",
   "execution_count": 39,
   "id": "e8fd7ef1",
   "metadata": {},
   "outputs": [
    {
     "data": {
      "text/plain": [
       "True"
      ]
     },
     "execution_count": 39,
     "metadata": {},
     "output_type": "execute_result"
    }
   ],
   "source": [
    "l[-1]"
   ]
  },
  {
   "cell_type": "code",
   "execution_count": 40,
   "id": "b601651d",
   "metadata": {},
   "outputs": [
    {
     "data": {
      "text/plain": [
       "['aa', 'bb', 22]"
      ]
     },
     "execution_count": 40,
     "metadata": {},
     "output_type": "execute_result"
    }
   ],
   "source": [
    "l[0:3]"
   ]
  },
  {
   "cell_type": "code",
   "execution_count": 41,
   "id": "ce51c00a",
   "metadata": {},
   "outputs": [
    {
     "data": {
      "text/plain": [
       "[True, 33.44, 22, 'bb', 'aa']"
      ]
     },
     "execution_count": 41,
     "metadata": {},
     "output_type": "execute_result"
    }
   ],
   "source": [
    "l[::-1]"
   ]
  },
  {
   "cell_type": "code",
   "execution_count": 48,
   "id": "a13093b1",
   "metadata": {},
   "outputs": [
    {
     "data": {
      "text/plain": [
       "[True]"
      ]
     },
     "execution_count": 48,
     "metadata": {},
     "output_type": "execute_result"
    }
   ],
   "source": [
    "l[-1:5:1]"
   ]
  },
  {
   "cell_type": "code",
   "execution_count": 49,
   "id": "3b9c12df",
   "metadata": {},
   "outputs": [
    {
     "data": {
      "text/plain": [
       "'aa'"
      ]
     },
     "execution_count": 49,
     "metadata": {},
     "output_type": "execute_result"
    }
   ],
   "source": [
    "l[0]"
   ]
  },
  {
   "cell_type": "code",
   "execution_count": 50,
   "id": "65eac0ab",
   "metadata": {},
   "outputs": [
    {
     "data": {
      "text/plain": [
       "'a'"
      ]
     },
     "execution_count": 50,
     "metadata": {},
     "output_type": "execute_result"
    }
   ],
   "source": [
    "l[0][1]"
   ]
  },
  {
   "cell_type": "code",
   "execution_count": 51,
   "id": "50ebc2ed",
   "metadata": {},
   "outputs": [],
   "source": [
    "l1=[\"aa\",22]\n",
    "l2=[\"bb\",33]"
   ]
  },
  {
   "cell_type": "code",
   "execution_count": 52,
   "id": "fdc304a5",
   "metadata": {},
   "outputs": [
    {
     "data": {
      "text/plain": [
       "['aa', 22, 'bb', 33]"
      ]
     },
     "execution_count": 52,
     "metadata": {},
     "output_type": "execute_result"
    }
   ],
   "source": [
    "l1+l2"
   ]
  },
  {
   "cell_type": "code",
   "execution_count": 53,
   "id": "16d9de9f",
   "metadata": {},
   "outputs": [
    {
     "data": {
      "text/plain": [
       "['aa', 22, 'cc']"
      ]
     },
     "execution_count": 53,
     "metadata": {},
     "output_type": "execute_result"
    }
   ],
   "source": [
    "l1+[\"cc\"]"
   ]
  },
  {
   "cell_type": "code",
   "execution_count": 54,
   "id": "587b13e1",
   "metadata": {},
   "outputs": [
    {
     "data": {
      "text/plain": [
       "['aa', 22]"
      ]
     },
     "execution_count": 54,
     "metadata": {},
     "output_type": "execute_result"
    }
   ],
   "source": [
    "l1"
   ]
  },
  {
   "cell_type": "code",
   "execution_count": 55,
   "id": "caadab9d",
   "metadata": {},
   "outputs": [
    {
     "data": {
      "text/plain": [
       "['aa', 22, 'aa', 22, 'aa', 22]"
      ]
     },
     "execution_count": 55,
     "metadata": {},
     "output_type": "execute_result"
    }
   ],
   "source": [
    "l1*3"
   ]
  },
  {
   "cell_type": "code",
   "execution_count": 56,
   "id": "f181be04",
   "metadata": {},
   "outputs": [
    {
     "data": {
      "text/plain": [
       "['aa', 22]"
      ]
     },
     "execution_count": 56,
     "metadata": {},
     "output_type": "execute_result"
    }
   ],
   "source": [
    "l1"
   ]
  },
  {
   "cell_type": "code",
   "execution_count": 57,
   "id": "f6feb3d7",
   "metadata": {},
   "outputs": [],
   "source": [
    "l1[0]=\"bb\""
   ]
  },
  {
   "cell_type": "code",
   "execution_count": 58,
   "id": "3fd50c47",
   "metadata": {},
   "outputs": [
    {
     "data": {
      "text/plain": [
       "['bb', 22]"
      ]
     },
     "execution_count": 58,
     "metadata": {},
     "output_type": "execute_result"
    }
   ],
   "source": [
    "l1"
   ]
  },
  {
   "cell_type": "code",
   "execution_count": 59,
   "id": "ab7b4fac",
   "metadata": {},
   "outputs": [],
   "source": [
    "l1[0]=44 #We can replace with any datatype"
   ]
  },
  {
   "cell_type": "code",
   "execution_count": 60,
   "id": "5d8c0d07",
   "metadata": {},
   "outputs": [
    {
     "data": {
      "text/plain": [
       "[44, 22]"
      ]
     },
     "execution_count": 60,
     "metadata": {},
     "output_type": "execute_result"
    }
   ],
   "source": [
    "l1"
   ]
  },
  {
   "cell_type": "code",
   "execution_count": 61,
   "id": "e56abb0c",
   "metadata": {},
   "outputs": [],
   "source": [
    "#muttable means the we can chnage is possible list is muttable and STring is immuttable"
   ]
  },
  {
   "cell_type": "code",
   "execution_count": 62,
   "id": "ea73440f",
   "metadata": {},
   "outputs": [],
   "source": [
    "s=\"Ezaz\""
   ]
  },
  {
   "cell_type": "code",
   "execution_count": 63,
   "id": "0a964eae",
   "metadata": {},
   "outputs": [
    {
     "ename": "TypeError",
     "evalue": "'str' object does not support item assignment",
     "output_type": "error",
     "traceback": [
      "\u001b[1;31m---------------------------------------------------------------------------\u001b[0m",
      "\u001b[1;31mTypeError\u001b[0m                                 Traceback (most recent call last)",
      "Input \u001b[1;32mIn [63]\u001b[0m, in \u001b[0;36m<cell line: 1>\u001b[1;34m()\u001b[0m\n\u001b[1;32m----> 1\u001b[0m s[\u001b[38;5;241m0\u001b[39m]\u001b[38;5;241m=\u001b[39m\u001b[38;5;124m\"\u001b[39m\u001b[38;5;124mr\u001b[39m\u001b[38;5;124m\"\u001b[39m\n",
      "\u001b[1;31mTypeError\u001b[0m: 'str' object does not support item assignment"
     ]
    }
   ],
   "source": [
    "s[0]=\"r\""
   ]
  },
  {
   "cell_type": "code",
   "execution_count": 65,
   "id": "00624a37",
   "metadata": {},
   "outputs": [
    {
     "data": {
      "text/plain": [
       "'Azaz'"
      ]
     },
     "execution_count": 65,
     "metadata": {},
     "output_type": "execute_result"
    }
   ],
   "source": [
    "s.replace(\"E\",\"A\")"
   ]
  },
  {
   "cell_type": "code",
   "execution_count": 68,
   "id": "089d8074",
   "metadata": {},
   "outputs": [],
   "source": [
    "#they will cretea new space/address in memeory and replace the character . create a new refrence"
   ]
  },
  {
   "cell_type": "code",
   "execution_count": 69,
   "id": "3832deff",
   "metadata": {},
   "outputs": [
    {
     "data": {
      "text/plain": [
       "2"
      ]
     },
     "execution_count": 69,
     "metadata": {},
     "output_type": "execute_result"
    }
   ],
   "source": [
    "len(l1)"
   ]
  },
  {
   "cell_type": "code",
   "execution_count": 70,
   "id": "431ecd0f",
   "metadata": {},
   "outputs": [
    {
     "data": {
      "text/plain": [
       "True"
      ]
     },
     "execution_count": 70,
     "metadata": {},
     "output_type": "execute_result"
    }
   ],
   "source": [
    "44 in l1\n"
   ]
  },
  {
   "cell_type": "code",
   "execution_count": 71,
   "id": "26be86c8",
   "metadata": {},
   "outputs": [
    {
     "ename": "NameError",
     "evalue": "name 'aa' is not defined",
     "output_type": "error",
     "traceback": [
      "\u001b[1;31m---------------------------------------------------------------------------\u001b[0m",
      "\u001b[1;31mNameError\u001b[0m                                 Traceback (most recent call last)",
      "Input \u001b[1;32mIn [71]\u001b[0m, in \u001b[0;36m<cell line: 1>\u001b[1;34m()\u001b[0m\n\u001b[1;32m----> 1\u001b[0m \u001b[43maa\u001b[49m \u001b[38;5;129;01min\u001b[39;00m l1\n",
      "\u001b[1;31mNameError\u001b[0m: name 'aa' is not defined"
     ]
    }
   ],
   "source": [
    "aa in l1\n"
   ]
  },
  {
   "cell_type": "code",
   "execution_count": 72,
   "id": "782e3af6",
   "metadata": {},
   "outputs": [
    {
     "data": {
      "text/plain": [
       "False"
      ]
     },
     "execution_count": 72,
     "metadata": {},
     "output_type": "execute_result"
    }
   ],
   "source": [
    "\"a\" in l1"
   ]
  },
  {
   "cell_type": "code",
   "execution_count": 73,
   "id": "36d38ed7",
   "metadata": {},
   "outputs": [],
   "source": [
    "l1.append(\"dd\")"
   ]
  },
  {
   "cell_type": "code",
   "execution_count": 74,
   "id": "a8969b67",
   "metadata": {},
   "outputs": [
    {
     "data": {
      "text/plain": [
       "[44, 22, 'dd']"
      ]
     },
     "execution_count": 74,
     "metadata": {},
     "output_type": "execute_result"
    }
   ],
   "source": [
    "l1"
   ]
  },
  {
   "cell_type": "code",
   "execution_count": 75,
   "id": "39f5d325",
   "metadata": {},
   "outputs": [
    {
     "data": {
      "text/plain": [
       "'dd'"
      ]
     },
     "execution_count": 75,
     "metadata": {},
     "output_type": "execute_result"
    }
   ],
   "source": [
    "l1.pop()\n"
   ]
  },
  {
   "cell_type": "code",
   "execution_count": 76,
   "id": "67a78f0c",
   "metadata": {},
   "outputs": [
    {
     "data": {
      "text/plain": [
       "[44, 22]"
      ]
     },
     "execution_count": 76,
     "metadata": {},
     "output_type": "execute_result"
    }
   ],
   "source": [
    "l1"
   ]
  },
  {
   "cell_type": "code",
   "execution_count": 79,
   "id": "a55c4f21",
   "metadata": {},
   "outputs": [
    {
     "data": {
      "text/plain": [
       "22"
      ]
     },
     "execution_count": 79,
     "metadata": {},
     "output_type": "execute_result"
    }
   ],
   "source": [
    "l1.pop(0) # we will pop from any position"
   ]
  },
  {
   "cell_type": "code",
   "execution_count": 78,
   "id": "ab58231c",
   "metadata": {},
   "outputs": [
    {
     "data": {
      "text/plain": [
       "[22]"
      ]
     },
     "execution_count": 78,
     "metadata": {},
     "output_type": "execute_result"
    }
   ],
   "source": [
    "l1\n"
   ]
  },
  {
   "cell_type": "code",
   "execution_count": 80,
   "id": "f46d0ed0",
   "metadata": {},
   "outputs": [],
   "source": [
    "l1.insert(1,\"GG\")"
   ]
  },
  {
   "cell_type": "code",
   "execution_count": 81,
   "id": "1ac70bf3",
   "metadata": {},
   "outputs": [
    {
     "data": {
      "text/plain": [
       "['GG']"
      ]
     },
     "execution_count": 81,
     "metadata": {},
     "output_type": "execute_result"
    }
   ],
   "source": [
    "l1\n"
   ]
  },
  {
   "cell_type": "code",
   "execution_count": 84,
   "id": "e9c417e6",
   "metadata": {},
   "outputs": [],
   "source": [
    "l1.insert(0,\"uu\")"
   ]
  },
  {
   "cell_type": "code",
   "execution_count": 85,
   "id": "904c2067",
   "metadata": {},
   "outputs": [
    {
     "data": {
      "text/plain": [
       "['uu', 'GG', 'GG']"
      ]
     },
     "execution_count": 85,
     "metadata": {},
     "output_type": "execute_result"
    }
   ],
   "source": [
    "l1"
   ]
  },
  {
   "cell_type": "code",
   "execution_count": 87,
   "id": "d1f6d360",
   "metadata": {},
   "outputs": [],
   "source": [
    "l1.reverse()"
   ]
  },
  {
   "cell_type": "markdown",
   "id": "759dbcfe",
   "metadata": {},
   "source": [
    "l1\n"
   ]
  },
  {
   "cell_type": "code",
   "execution_count": 88,
   "id": "d783ee39",
   "metadata": {},
   "outputs": [
    {
     "data": {
      "text/plain": [
       "['GG', 'GG', 'uu']"
      ]
     },
     "execution_count": 88,
     "metadata": {},
     "output_type": "execute_result"
    }
   ],
   "source": [
    "l1"
   ]
  },
  {
   "cell_type": "code",
   "execution_count": 89,
   "id": "ffdaaba8",
   "metadata": {},
   "outputs": [
    {
     "data": {
      "text/plain": [
       "2"
      ]
     },
     "execution_count": 89,
     "metadata": {},
     "output_type": "execute_result"
    }
   ],
   "source": [
    "l1.count(\"GG\")"
   ]
  },
  {
   "cell_type": "code",
   "execution_count": 92,
   "id": "7752e3e4",
   "metadata": {},
   "outputs": [],
   "source": [
    "l1.append([3,5,6,7,4]) # append means add same way u added"
   ]
  },
  {
   "cell_type": "code",
   "execution_count": 91,
   "id": "a5b3ee23",
   "metadata": {},
   "outputs": [
    {
     "data": {
      "text/plain": [
       "['GG', 'GG', 'uu', [3, 5, 6, 7, 4]]"
      ]
     },
     "execution_count": 91,
     "metadata": {},
     "output_type": "execute_result"
    }
   ],
   "source": [
    "l1"
   ]
  },
  {
   "cell_type": "code",
   "execution_count": 93,
   "id": "a41479e1",
   "metadata": {},
   "outputs": [],
   "source": [
    "l1.extend([44,55,\"rr\"])"
   ]
  },
  {
   "cell_type": "code",
   "execution_count": 94,
   "id": "a2d714ad",
   "metadata": {},
   "outputs": [
    {
     "data": {
      "text/plain": [
       "['GG', 'GG', 'uu', [3, 5, 6, 7, 4], [3, 5, 6, 7, 4], 44, 55, 'rr']"
      ]
     },
     "execution_count": 94,
     "metadata": {},
     "output_type": "execute_result"
    }
   ],
   "source": [
    "l1"
   ]
  },
  {
   "cell_type": "code",
   "execution_count": 95,
   "id": "ea057968",
   "metadata": {},
   "outputs": [
    {
     "name": "stdout",
     "output_type": "stream",
     "text": [
      "['GG', 'GG', 'uu', [3, 5, 6, 7, 4], [3, 5, 6, 7, 4], 44, 55, 'rr']\n"
     ]
    }
   ],
   "source": [
    "print(l1)"
   ]
  },
  {
   "cell_type": "code",
   "execution_count": 96,
   "id": "442086fa",
   "metadata": {},
   "outputs": [
    {
     "name": "stdout",
     "output_type": "stream",
     "text": [
      "None\n"
     ]
    }
   ],
   "source": [
    "print(l1.reverse())"
   ]
  },
  {
   "cell_type": "code",
   "execution_count": 97,
   "id": "2e182773",
   "metadata": {},
   "outputs": [],
   "source": [
    "l1.extend(\"rrtrtrt\")"
   ]
  },
  {
   "cell_type": "code",
   "execution_count": 98,
   "id": "ce9b7aec",
   "metadata": {},
   "outputs": [
    {
     "data": {
      "text/plain": [
       "['rr',\n",
       " 55,\n",
       " 44,\n",
       " [3, 5, 6, 7, 4],\n",
       " [3, 5, 6, 7, 4],\n",
       " 'uu',\n",
       " 'GG',\n",
       " 'GG',\n",
       " 'r',\n",
       " 'r',\n",
       " 't',\n",
       " 'r',\n",
       " 't',\n",
       " 'r',\n",
       " 't']"
      ]
     },
     "execution_count": 98,
     "metadata": {},
     "output_type": "execute_result"
    }
   ],
   "source": [
    "l1\n"
   ]
  },
  {
   "cell_type": "code",
   "execution_count": 99,
   "id": "3445294e",
   "metadata": {},
   "outputs": [],
   "source": [
    "d=l1.pop(1)"
   ]
  },
  {
   "cell_type": "code",
   "execution_count": 100,
   "id": "1900c111",
   "metadata": {},
   "outputs": [
    {
     "data": {
      "text/plain": [
       "55"
      ]
     },
     "execution_count": 100,
     "metadata": {},
     "output_type": "execute_result"
    }
   ],
   "source": [
    "d"
   ]
  },
  {
   "cell_type": "code",
   "execution_count": null,
   "id": "57994ea8",
   "metadata": {},
   "outputs": [],
   "source": []
  }
 ],
 "metadata": {
  "kernelspec": {
   "display_name": "Python 3 (ipykernel)",
   "language": "python",
   "name": "python3"
  },
  "language_info": {
   "codemirror_mode": {
    "name": "ipython",
    "version": 3
   },
   "file_extension": ".py",
   "mimetype": "text/x-python",
   "name": "python",
   "nbconvert_exporter": "python",
   "pygments_lexer": "ipython3",
   "version": "3.9.12"
  }
 },
 "nbformat": 4,
 "nbformat_minor": 5
}
