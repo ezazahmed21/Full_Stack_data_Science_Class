{
 "cells": [
  {
   "cell_type": "code",
   "execution_count": 1,
   "id": "12ea3cd4",
   "metadata": {},
   "outputs": [
    {
     "name": "stdout",
     "output_type": "stream",
     "text": [
      "The Zen of Python, by Tim Peters\n",
      "\n",
      "Beautiful is better than ugly.\n",
      "Explicit is better than implicit.\n",
      "Simple is better than complex.\n",
      "Complex is better than complicated.\n",
      "Flat is better than nested.\n",
      "Sparse is better than dense.\n",
      "Readability counts.\n",
      "Special cases aren't special enough to break the rules.\n",
      "Although practicality beats purity.\n",
      "Errors should never pass silently.\n",
      "Unless explicitly silenced.\n",
      "In the face of ambiguity, refuse the temptation to guess.\n",
      "There should be one-- and preferably only one --obvious way to do it.\n",
      "Although that way may not be obvious at first unless you're Dutch.\n",
      "Now is better than never.\n",
      "Although never is often better than *right* now.\n",
      "If the implementation is hard to explain, it's a bad idea.\n",
      "If the implementation is easy to explain, it may be a good idea.\n",
      "Namespaces are one honking great idea -- let's do more of those!\n"
     ]
    }
   ],
   "source": [
    "import this\n"
   ]
  },
  {
   "cell_type": "code",
   "execution_count": 3,
   "id": "c5f5786e",
   "metadata": {},
   "outputs": [
    {
     "name": "stdout",
     "output_type": "stream",
     "text": [
      "This is my first program\n"
     ]
    }
   ],
   "source": [
    "print(\"This is my first program\")"
   ]
  },
  {
   "cell_type": "code",
   "execution_count": 4,
   "id": "03636c19",
   "metadata": {},
   "outputs": [
    {
     "name": "stdout",
     "output_type": "stream",
     "text": [
      "To check defination click shift+tab\n"
     ]
    }
   ],
   "source": [
    "print(\"To check defination click shift+tab\")"
   ]
  },
  {
   "cell_type": "code",
   "execution_count": 5,
   "id": "db423943",
   "metadata": {},
   "outputs": [
    {
     "data": {
      "text/plain": [
       "3"
      ]
     },
     "execution_count": 5,
     "metadata": {},
     "output_type": "execute_result"
    }
   ],
   "source": [
    "1+2"
   ]
  },
  {
   "cell_type": "code",
   "execution_count": 6,
   "id": "0efe4b0c",
   "metadata": {},
   "outputs": [
    {
     "data": {
      "text/plain": [
       "0.42857142857142855"
      ]
     },
     "execution_count": 6,
     "metadata": {},
     "output_type": "execute_result"
    }
   ],
   "source": [
    "3/7"
   ]
  },
  {
   "cell_type": "code",
   "execution_count": 7,
   "id": "5e3b00f7",
   "metadata": {},
   "outputs": [],
   "source": [
    "a=10"
   ]
  },
  {
   "cell_type": "code",
   "execution_count": 8,
   "id": "29ae9ecd",
   "metadata": {},
   "outputs": [],
   "source": [
    "b=20"
   ]
  },
  {
   "cell_type": "code",
   "execution_count": 9,
   "id": "53c78704",
   "metadata": {},
   "outputs": [
    {
     "data": {
      "text/plain": [
       "30"
      ]
     },
     "execution_count": 9,
     "metadata": {},
     "output_type": "execute_result"
    }
   ],
   "source": [
    "a+b"
   ]
  },
  {
   "cell_type": "code",
   "execution_count": 10,
   "id": "d322dc2c",
   "metadata": {},
   "outputs": [
    {
     "data": {
      "text/plain": [
       "int"
      ]
     },
     "execution_count": 10,
     "metadata": {},
     "output_type": "execute_result"
    }
   ],
   "source": [
    "type(a)"
   ]
  },
  {
   "cell_type": "code",
   "execution_count": 11,
   "id": "cff030b8",
   "metadata": {},
   "outputs": [],
   "source": [
    "c=\"MM\""
   ]
  },
  {
   "cell_type": "code",
   "execution_count": 12,
   "id": "fb0cef50",
   "metadata": {},
   "outputs": [
    {
     "data": {
      "text/plain": [
       "str"
      ]
     },
     "execution_count": 12,
     "metadata": {},
     "output_type": "execute_result"
    }
   ],
   "source": [
    "type(c)"
   ]
  },
  {
   "cell_type": "code",
   "execution_count": 13,
   "id": "4af7f96b",
   "metadata": {},
   "outputs": [],
   "source": [
    "d=5 + 6j"
   ]
  },
  {
   "cell_type": "code",
   "execution_count": 14,
   "id": "c8a50925",
   "metadata": {},
   "outputs": [
    {
     "data": {
      "text/plain": [
       "complex"
      ]
     },
     "execution_count": 14,
     "metadata": {},
     "output_type": "execute_result"
    }
   ],
   "source": [
    "type(d)"
   ]
  },
  {
   "cell_type": "code",
   "execution_count": 18,
   "id": "ee5ec2f0",
   "metadata": {},
   "outputs": [],
   "source": [
    "j = \"imganery number complex variable notation is j\"\n"
   ]
  },
  {
   "cell_type": "code",
   "execution_count": 19,
   "id": "9f17a966",
   "metadata": {},
   "outputs": [
    {
     "name": "stdout",
     "output_type": "stream",
     "text": [
      "imganery number complex variable notation is j\n"
     ]
    }
   ],
   "source": [
    "print(j)"
   ]
  },
  {
   "cell_type": "code",
   "execution_count": 21,
   "id": "f22ad619",
   "metadata": {},
   "outputs": [],
   "source": [
    "g = True"
   ]
  },
  {
   "cell_type": "code",
   "execution_count": 22,
   "id": "98d29fe0",
   "metadata": {},
   "outputs": [
    {
     "data": {
      "text/plain": [
       "bool"
      ]
     },
     "execution_count": 22,
     "metadata": {},
     "output_type": "execute_result"
    }
   ],
   "source": [
    "type(g)"
   ]
  },
  {
   "cell_type": "code",
   "execution_count": 27,
   "id": "77a9b045",
   "metadata": {},
   "outputs": [],
   "source": [
    "a,b,c,d,e = 234,4.4,\"sss\",True,5+6j"
   ]
  },
  {
   "cell_type": "code",
   "execution_count": 24,
   "id": "46d943a0",
   "metadata": {},
   "outputs": [
    {
     "name": "stdout",
     "output_type": "stream",
     "text": [
      "234\n"
     ]
    }
   ],
   "source": [
    "print(a)"
   ]
  },
  {
   "cell_type": "code",
   "execution_count": 25,
   "id": "e3efd3bf",
   "metadata": {},
   "outputs": [
    {
     "name": "stdout",
     "output_type": "stream",
     "text": [
      "Store value in variable in comma seperated\n"
     ]
    }
   ],
   "source": [
    "print(\"Store value in variable in comma seperated\")"
   ]
  },
  {
   "cell_type": "code",
   "execution_count": 28,
   "id": "094042eb",
   "metadata": {},
   "outputs": [
    {
     "data": {
      "text/plain": [
       "(5+6j)"
      ]
     },
     "execution_count": 28,
     "metadata": {},
     "output_type": "execute_result"
    }
   ],
   "source": [
    "e\n"
   ]
  },
  {
   "cell_type": "code",
   "execution_count": 29,
   "id": "ae7ec2b0",
   "metadata": {},
   "outputs": [
    {
     "data": {
      "text/plain": [
       "6.0"
      ]
     },
     "execution_count": 29,
     "metadata": {},
     "output_type": "execute_result"
    }
   ],
   "source": [
    "e.imag"
   ]
  },
  {
   "cell_type": "code",
   "execution_count": 30,
   "id": "4e3341e9",
   "metadata": {},
   "outputs": [
    {
     "name": "stdout",
     "output_type": "stream",
     "text": [
      "To check define function use variable name . tab\n"
     ]
    }
   ],
   "source": [
    "print(\"To check define function use variable name . tab\")"
   ]
  },
  {
   "cell_type": "code",
   "execution_count": 31,
   "id": "84084aa6",
   "metadata": {},
   "outputs": [],
   "source": [
    "a=\"Hello\""
   ]
  },
  {
   "cell_type": "code",
   "execution_count": 32,
   "id": "1c7ac46f",
   "metadata": {},
   "outputs": [
    {
     "data": {
      "text/plain": [
       "'Hello Code '"
      ]
     },
     "execution_count": 32,
     "metadata": {},
     "output_type": "execute_result"
    }
   ],
   "source": [
    "a+\" Code \""
   ]
  },
  {
   "cell_type": "code",
   "execution_count": 33,
   "id": "fc6f3451",
   "metadata": {},
   "outputs": [
    {
     "data": {
      "text/plain": [
       "'Hello4'"
      ]
     },
     "execution_count": 33,
     "metadata": {},
     "output_type": "execute_result"
    }
   ],
   "source": [
    "a+str(4)"
   ]
  },
  {
   "cell_type": "code",
   "execution_count": 34,
   "id": "aff11ff3",
   "metadata": {},
   "outputs": [
    {
     "name": "stdout",
     "output_type": "stream",
     "text": [
      "str isuse for type cast intiger\n"
     ]
    }
   ],
   "source": [
    "print(\"str isuse for type cast intiger\")"
   ]
  },
  {
   "cell_type": "code",
   "execution_count": 35,
   "id": "5da3800d",
   "metadata": {},
   "outputs": [
    {
     "data": {
      "text/plain": [
       "True"
      ]
     },
     "execution_count": 35,
     "metadata": {},
     "output_type": "execute_result"
    }
   ],
   "source": [
    "True"
   ]
  },
  {
   "cell_type": "code",
   "execution_count": 36,
   "id": "ac35bfab",
   "metadata": {},
   "outputs": [
    {
     "data": {
      "text/plain": [
       "2"
      ]
     },
     "execution_count": 36,
     "metadata": {},
     "output_type": "execute_result"
    }
   ],
   "source": [
    "True + True\n"
   ]
  },
  {
   "cell_type": "code",
   "execution_count": 38,
   "id": "8b7d8895",
   "metadata": {},
   "outputs": [
    {
     "name": "stdout",
     "output_type": "stream",
     "text": [
      "True written 1 and false is 0\n"
     ]
    }
   ],
   "source": [
    "print(\"True written 1 and false is 0\")"
   ]
  },
  {
   "cell_type": "code",
   "execution_count": 39,
   "id": "39f1e397",
   "metadata": {},
   "outputs": [
    {
     "name": "stdout",
     "output_type": "stream",
     "text": [
      "To take input from runtime input()\n"
     ]
    }
   ],
   "source": [
    "print(\"To take input from runtime input()\")"
   ]
  },
  {
   "cell_type": "code",
   "execution_count": 40,
   "id": "c3449eb6",
   "metadata": {},
   "outputs": [
    {
     "name": "stdout",
     "output_type": "stream",
     "text": [
      "gjh\n"
     ]
    },
    {
     "data": {
      "text/plain": [
       "'gjh'"
      ]
     },
     "execution_count": 40,
     "metadata": {},
     "output_type": "execute_result"
    }
   ],
   "source": [
    "input()\n"
   ]
  },
  {
   "cell_type": "code",
   "execution_count": 41,
   "id": "dff93290",
   "metadata": {},
   "outputs": [
    {
     "name": "stdout",
     "output_type": "stream",
     "text": [
      "10\n"
     ]
    }
   ],
   "source": [
    "a = input()\n"
   ]
  },
  {
   "cell_type": "code",
   "execution_count": 42,
   "id": "89083e22",
   "metadata": {},
   "outputs": [],
   "source": [
    "b = a\n"
   ]
  },
  {
   "cell_type": "code",
   "execution_count": 43,
   "id": "db8748cd",
   "metadata": {},
   "outputs": [
    {
     "data": {
      "text/plain": [
       "'10'"
      ]
     },
     "execution_count": 43,
     "metadata": {},
     "output_type": "execute_result"
    }
   ],
   "source": [
    "b"
   ]
  },
  {
   "cell_type": "code",
   "execution_count": 44,
   "id": "773afc8e",
   "metadata": {},
   "outputs": [
    {
     "name": "stdout",
     "output_type": "stream",
     "text": [
      "Input is always return/comvert string\n"
     ]
    }
   ],
   "source": [
    "print(\"Input is always return/comvert string\")"
   ]
  },
  {
   "cell_type": "code",
   "execution_count": 45,
   "id": "1ebb7476",
   "metadata": {},
   "outputs": [
    {
     "data": {
      "text/plain": [
       "10"
      ]
     },
     "execution_count": 45,
     "metadata": {},
     "output_type": "execute_result"
    }
   ],
   "source": [
    "int(b)"
   ]
  },
  {
   "cell_type": "code",
   "execution_count": 46,
   "id": "8f36763c",
   "metadata": {},
   "outputs": [
    {
     "data": {
      "text/plain": [
       "'C:\\\\Users\\\\saima'"
      ]
     },
     "execution_count": 46,
     "metadata": {},
     "output_type": "execute_result"
    }
   ],
   "source": [
    "pwd\n"
   ]
  },
  {
   "cell_type": "code",
   "execution_count": 47,
   "id": "e6cd4343",
   "metadata": {},
   "outputs": [
    {
     "data": {
      "text/plain": [
       "(5+6j)"
      ]
     },
     "execution_count": 47,
     "metadata": {},
     "output_type": "execute_result"
    }
   ],
   "source": [
    "e\n"
   ]
  },
  {
   "cell_type": "code",
   "execution_count": 48,
   "id": "24d759e0",
   "metadata": {},
   "outputs": [
    {
     "data": {
      "text/plain": [
       "<function complex.conjugate>"
      ]
     },
     "execution_count": 48,
     "metadata": {},
     "output_type": "execute_result"
    }
   ],
   "source": [
    "e.conjugate"
   ]
  },
  {
   "cell_type": "code",
   "execution_count": 49,
   "id": "61fc5f4b",
   "metadata": {},
   "outputs": [
    {
     "data": {
      "text/plain": [
       "5.0"
      ]
     },
     "execution_count": 49,
     "metadata": {},
     "output_type": "execute_result"
    }
   ],
   "source": [
    "e.real"
   ]
  },
  {
   "cell_type": "code",
   "execution_count": null,
   "id": "c6d0d902",
   "metadata": {},
   "outputs": [],
   "source": []
  }
 ],
 "metadata": {
  "kernelspec": {
   "display_name": "Python 3 (ipykernel)",
   "language": "python",
   "name": "python3"
  },
  "language_info": {
   "codemirror_mode": {
    "name": "ipython",
    "version": 3
   },
   "file_extension": ".py",
   "mimetype": "text/x-python",
   "name": "python",
   "nbconvert_exporter": "python",
   "pygments_lexer": "ipython3",
   "version": "3.9.12"
  }
 },
 "nbformat": 4,
 "nbformat_minor": 5
}
